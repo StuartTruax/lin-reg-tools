{
 "cells": [
  {
   "cell_type": "markdown",
   "metadata": {},
   "source": [
    "# Linear Regression : scikit-learn\n",
    "\n",
    "Using scikit-learn for library-based linear regression. "
   ]
  },
  {
   "cell_type": "markdown",
   "metadata": {},
   "source": [
    "### Data import and standardization"
   ]
  },
  {
   "cell_type": "code",
   "execution_count": 1,
   "metadata": {},
   "outputs": [
    {
     "data": {
      "text/plain": [
       "[<matplotlib.lines.Line2D at 0x1a0d96af10>]"
      ]
     },
     "execution_count": 1,
     "metadata": {},
     "output_type": "execute_result"
    }
   ],
   "source": [
    "from sklearn.preprocessing import StandardScaler\n",
    "import numpy as np\n",
    "import matplotlib.pyplot as plt\n",
    "import seaborn as sns\n",
    "import pandas as pd\n",
    "\n",
    "\n",
    "\n",
    "df = pd.read_csv('housing.data', header=None, sep='\\s+')\n",
    "df.columns = ['CRIM', 'ZN', 'INDUS', 'CHAS', 'NOX', 'RM', 'AGE', 'DIS', 'RAD',\n",
    "'TAX', 'PTRATIO', 'B', 'LSTAT', 'MEDV']\n",
    "\n",
    "X = df['RM'].values\n",
    "y = df['MEDV'].values\n",
    "\n",
    "def standardizeData(X,Y):\n",
    "    \n",
    "    data = [[X[0],Y[0]]]\n",
    "    \n",
    "    for i in range(1,X.shape[0]):\n",
    "        data.append([X[i],Y[i]])\n",
    "    \n",
    "    scaler = StandardScaler()\n",
    "    \n",
    "    scaler.fit(data)\n",
    "    \n",
    "    data_std = scaler.transform(data)\n",
    "    \n",
    "    X_std = np.array([data_std[0][0]])\n",
    "    Y_std = np.array([data_std[0][1]])\n",
    "    \n",
    "    \n",
    "    for i in range(1,len(data_std)):\n",
    "        X_std = np.append(X_std,[data_std[i][0]],axis=0)\n",
    "        Y_std = np.append(Y_std,[data_std[i][1]],axis=0)\n",
    "    \n",
    "    \n",
    "    return (X_std,Y_std)\n",
    "\n",
    "\n",
    "(X_std,y_std) =  standardizeData(X,y)\n",
    "\n",
    "plt.plot(X_std,y_std,\".\")\n"
   ]
  },
  {
   "cell_type": "markdown",
   "metadata": {},
   "source": [
    "## Regression Proper: scikit-learn"
   ]
  },
  {
   "cell_type": "code",
   "execution_count": 2,
   "metadata": {},
   "outputs": [
    {
     "name": "stdout",
     "output_type": "stream",
     "text": [
      "Slope: 9.102\n",
      "Intercept: -34.671\n"
     ]
    }
   ],
   "source": [
    "from sklearn.linear_model import LinearRegression\n",
    "slr = LinearRegression()\n",
    "\n",
    "#use _.reshape.(-1,1) to account for a single feature\n",
    "X = X.reshape(-1, 1)\n",
    "y = y.reshape(-1, 1)\n",
    "\n",
    "slr.fit(X, y)\n",
    "print('Slope: %.3f' % slr.coef_[0])\n",
    "print('Intercept: %.3f' % slr.intercept_)"
   ]
  },
  {
   "cell_type": "markdown",
   "metadata": {},
   "source": [
    "### Plotting the regression."
   ]
  },
  {
   "cell_type": "code",
   "execution_count": 3,
   "metadata": {},
   "outputs": [],
   "source": [
    "def lin_regplot(X, y, model):\n",
    "    plt.scatter(X, y, c='blue')\n",
    "    plt.plot(X, model.predict(X), color='red')\n",
    "    return None"
   ]
  },
  {
   "cell_type": "code",
   "execution_count": 4,
   "metadata": {},
   "outputs": [
    {
     "data": {
      "image/png": "[encoded data removed]",
      "text/plain": [
       "<Figure size 432x288 with 1 Axes>"
      ]
     },
     "metadata": {},
     "output_type": "display_data"
    }
   ],
   "source": [
    "lin_regplot(X, y, slr)\n",
    "plt.xlabel('Average number of rooms [RM] (standardized)')\n",
    "plt.ylabel('Price in $1000\\'s [MEDV] (standardized)')\n",
    "plt.show()"
   ]
  }
 ],
 "metadata": {
  "kernelspec": {
   "display_name": "Python 2",
   "language": "python",
   "name": "python2"
  },
  "language_info": {
   "codemirror_mode": {
    "name": "ipython",
    "version": 2
   },
   "file_extension": ".py",
   "mimetype": "text/x-python",
   "name": "python",
   "nbconvert_exporter": "python",
   "pygments_lexer": "ipython2",
   "version": "2.7.9"
  }
 },
 "nbformat": 4,
 "nbformat_minor": 2
}
